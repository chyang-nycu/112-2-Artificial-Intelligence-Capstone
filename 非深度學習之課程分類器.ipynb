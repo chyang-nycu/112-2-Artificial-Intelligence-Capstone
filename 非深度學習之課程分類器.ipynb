{
  "cells": [
    {
      "cell_type": "markdown",
      "metadata": {
        "id": "OEDQ4ddS10Nm"
      },
      "source": [
        "## Read Data"
      ]
    },
    {
      "cell_type": "code",
      "source": [
        "# 合併 JSON\n",
        "import json\n",
        "\n",
        "with open(\"NSC-4.json\", \"r\") as file:\n",
        "    c_data = json.load(file)\n",
        "\n",
        "with open(\"output-3.json\", \"r\") as file:\n",
        "    o_data = json.load(file)\n",
        "\n",
        "merged_data = c_data + o_data\n",
        "\n",
        "with open(\"merged.json\", \"w\") as file:\n",
        "    json.dump(merged_data, file, indent=4)\n"
      ],
      "metadata": {
        "id": "SDhsoHSy9y6r"
      },
      "execution_count": null,
      "outputs": []
    },
    {
      "cell_type": "code",
      "source": [
        "# 打散 JSON 檔中的資料\n",
        "\n",
        "import json\n",
        "import random\n",
        "\n",
        "\n",
        "with open(\"merged.json\", \"r\") as file:\n",
        "    data = json.load(file)\n",
        "\n",
        "random.shuffle(data)\n",
        "\n",
        "with open(\"your_file.json\", \"w\") as file:\n",
        "    json.dump(data, file, indent=4)\n"
      ],
      "metadata": {
        "id": "1LY5kkqt9mbS"
      },
      "execution_count": null,
      "outputs": []
    },
    {
      "cell_type": "code",
      "source": [
        "# txt 轉為 JSON 格式\n",
        "\n",
        "import json\n",
        "\n",
        "input_txt_path = 'OS-10output.txt'\n",
        "output_json_path = 'OS.json'\n",
        "\n",
        "with open(input_txt_path, 'r', encoding='utf-8') as file:\n",
        "    lines = file.readlines()\n",
        "\n",
        "data = [{\"labels\": 0, \"text\": line.strip().strip(\"\\\"\").rstrip(\",\").rstrip(\"\\\"\").strip()} for line in lines]\n",
        "\n",
        "json_data = json.dumps(data, ensure_ascii=False, indent=4)\n",
        "\n",
        "with open(output_json_path, 'w', encoding='utf-8') as file:\n",
        "    file.write(json_data)"
      ],
      "metadata": {
        "id": "di4srlt9MPsr"
      },
      "execution_count": null,
      "outputs": []
    },
    {
      "cell_type": "code",
      "source": [
        "# 一開始做的時候存內文的標籤打錯字，在這邊統一使用 \"text\"\n",
        "\n",
        "import json\n",
        "\n",
        "with open(\"1train.json\", \"r\") as file:\n",
        "    data = json.load(file)\n",
        "\n",
        "for obj in data:\n",
        "    obj[\"text\"] = obj.pop(\"context\")\n",
        "\n",
        "with open(\"1train.json\", \"w\") as file:\n",
        "    json.dump(data, file, indent=4)\n",
        "\n",
        "print(\"已將 'context' 標簽替換為 'text' 並寫入到新的 JSON 文件中。\")"
      ],
      "metadata": {
        "id": "4osVOb3L2pKi"
      },
      "execution_count": null,
      "outputs": []
    },
    {
      "cell_type": "markdown",
      "metadata": {
        "id": "C2l9f3P210Ny"
      },
      "source": [
        "## Category Distribution 課程類別視覺化"
      ]
    },
    {
      "cell_type": "code",
      "execution_count": null,
      "metadata": {
        "colab": {
          "base_uri": "https://localhost:8080/"
        },
        "id": "FnOyx6yE10Nz",
        "outputId": "3978aa4c-6675-46fa-9f02-d5618857bd94"
      },
      "outputs": [
        {
          "output_type": "execute_result",
          "data": {
            "text/plain": [
              "2"
            ]
          },
          "metadata": {},
          "execution_count": 94
        }
      ],
      "source": [
        "len(set(df_train['labels'].values))"
      ]
    },
    {
      "cell_type": "code",
      "execution_count": null,
      "metadata": {
        "colab": {
          "base_uri": "https://localhost:8080/",
          "height": 467
        },
        "id": "a16jX-8t10N0",
        "outputId": "3d6c39b8-8e51-43fb-af41-7ba6f0863e4d"
      },
      "outputs": [
        {
          "output_type": "display_data",
          "data": {
            "text/plain": [
              "<Figure size 640x480 with 1 Axes>"
            ],
            "image/png": "[encoded data removed]"
          },
          "metadata": {}
        }
      ],
      "source": [
        "import matplotlib.pyplot as plt\n",
        "\n",
        "# 統計各個類別的樣本數量\n",
        "label_counts = df_train['labels'].value_counts()\n",
        "\n",
        "label_counts.plot(kind='bar')\n",
        "\n",
        "# 設置標題和坐標軸標簽\n",
        "plt.title('Sample Count for Each Label')\n",
        "plt.xlabel('Label')\n",
        "plt.ylabel('Number of Samples')\n",
        "\n",
        "# 顯示圖形\n",
        "plt.show()\n"
      ]
    },
    {
      "cell_type": "markdown",
      "source": [
        "## Logic Regression"
      ],
      "metadata": {
        "id": "h4U1N-5pJJMZ"
      }
    },
    {
      "cell_type": "code",
      "source": [
        "import pandas as pd\n",
        "from sklearn.linear_model import LogisticRegression\n",
        "from sklearn.feature_extraction.text import CountVectorizer\n",
        "from sklearn.metrics import accuracy_score, precision_score, recall_score, f1_score\n",
        "from sklearn.decomposition import TruncatedSVD\n",
        "from sklearn.pipeline import make_pipeline\n",
        "\n",
        "import json\n",
        "\n",
        "# train data\n",
        "with open(\"/content/1train.json\", \"r\") as file:\n",
        "    data = file.read()\n",
        "json_data = json.loads(data)\n",
        "df_train = pd.DataFrame(json_data)\n",
        "df_train['text'] = df_train.apply(lambda row: row['context'] if pd.isnull(row['text']) else (row['text'] if pd.isnull(row['context']) else row['context'] + \" \" + row['text']), axis=1)\n",
        "df_train = df_train.drop(columns=['context'])\n",
        "\n",
        "# test data\n",
        "with open(\"/content/shuffled.json\", \"r\") as file:\n",
        "    data = file.read()\n",
        "json_data = json.loads(data)\n",
        "df_test = pd.DataFrame(json_data)\n",
        "df_test['text'] = df_test.apply(lambda row: row['context'] if pd.isnull(row['text']) else (row['text'] if pd.isnull(row['context']) else row['context'] + \" \" + row['text']), axis=1)\n",
        "df_test = df_test.drop(columns=['context'])\n",
        "\n",
        "# 初始化 CountVectorizer\n",
        "vectorizer = CountVectorizer(ngram_range=(1, 2), min_df=3, max_df=0.9, max_features=100000)\n",
        "\n",
        "# 提取訓練集和測試集的特征\n",
        "x_train = vectorizer.fit_transform(df_train['text'])\n",
        "x_test = vectorizer.transform(df_test['text'])\n",
        "\n",
        "# 獲取標簽\n",
        "y_train = df_train['labels']\n",
        "y_true = df_test['labels']\n",
        "\n",
        "# 未使用降維的模型\n",
        "lg = LogisticRegression(C=4, dual=False)\n",
        "lg.fit(x_train, y_train)\n",
        "y_pred = lg.predict(x_test)\n",
        "accuracy_no_pca = accuracy_score(y_true, y_pred)\n",
        "precision_no_pca = precision_score(y_true, y_pred, average='weighted')\n",
        "recall_no_pca = recall_score(y_true, y_pred, average='weighted')\n",
        "f1_no_pca = f1_score(y_true, y_pred, average='weighted')\n",
        "\n",
        "# 使用 TruncatedSVD 進行降維\n",
        "svd = TruncatedSVD(n_components=10)  # 選擇合適的組件數量\n",
        "x_train_reduced = svd.fit_transform(x_train)\n",
        "x_test_reduced = svd.transform(x_test)\n",
        "\n",
        "# 降維後的模型\n",
        "lg_reduced = LogisticRegression(C=4, dual=False)\n",
        "lg_reduced.fit(x_train_reduced, y_train)\n",
        "y_pred_reduced = lg_reduced.predict(x_test_reduced)\n",
        "accuracy_pca = accuracy_score(y_true, y_pred_reduced)\n",
        "precision_pca = precision_score(y_true, y_pred_reduced, average='weighted')\n",
        "recall_pca = recall_score(y_true, y_pred_reduced, average='weighted')\n",
        "f1_pca = f1_score(y_true, y_pred_reduced, average='weighted')\n",
        "\n",
        "# 輸出結果\n",
        "print(f\"Without Dimensionality Reduction: Accuracy: {accuracy_no_pca:.4f}, Precision: {precision_no_pca:.4f}, Recall: {recall_no_pca:.4f}, F1-Score: {f1_no_pca:.4f}\")\n",
        "print(f\"With Dimensionality Reduction: Accuracy: {accuracy_pca:.4f}, Precision: {precision_pca:.4f}, Recall: {recall_pca:.4f}, F1-Score: {f1_pca:.4f}\")\n"
      ],
      "metadata": {
        "colab": {
          "base_uri": "https://localhost:8080/"
        },
        "id": "i8h2H6HvS1cD",
        "outputId": "89197b79-b435-495c-c21d-d4372996900e"
      },
      "execution_count": null,
      "outputs": [
        {
          "output_type": "stream",
          "name": "stdout",
          "text": [
            "Without Dimensionality Reduction: Accuracy: 0.5385, Precision: 0.7618, Recall: 0.5385, F1-Score: 0.4198\n",
            "With Dimensionality Reduction: Accuracy: 0.5231, Precision: 0.7578, Recall: 0.5231, F1-Score: 0.3897\n"
          ]
        }
      ]
    },
    {
      "cell_type": "markdown",
      "source": [
        "## TF-IDF"
      ],
      "metadata": {
        "id": "ZCPah-L1Jx8Q"
      }
    },
    {
      "cell_type": "markdown",
      "source": [
        "### 尚未降維"
      ],
      "metadata": {
        "id": "Vx46AmnQK1p1"
      }
    },
    {
      "cell_type": "code",
      "source": [
        "from sklearn.feature_extraction.text import TfidfVectorizer\n",
        "from sklearn.linear_model import LogisticRegression\n",
        "from sklearn.model_selection import train_test_split\n",
        "from sklearn.metrics import classification_report\n",
        "import pandas as pd\n",
        "\n",
        "# Dataset\n",
        "with open(\"/content/merged.json\", \"r\") as file:\n",
        "    data = file.read()\n",
        "\n",
        "json_data = json.loads(data)\n",
        "print(json_data)\n",
        "\n",
        "df = pd.DataFrame(json_data)\n",
        "\n",
        "\n",
        "# 劃分訓練集和測試集\n",
        "X_train, X_test, y_train, y_test = train_test_split(df['text'], df['labels'], test_size=0.25, random_state=42)\n",
        "\n",
        "# 計算TF-IDF特徵\n",
        "tfidf = TfidfVectorizer()\n",
        "X_train_tfidf = tfidf.fit_transform(X_train)\n",
        "X_test_tfidf = tfidf.transform(X_test)\n",
        "\n",
        "# 訓練邏輯回歸分類器\n",
        "classifier = LogisticRegression()\n",
        "classifier.fit(X_train_tfidf, y_train)\n",
        "\n",
        "# 預測測試集\n",
        "y_pred = classifier.predict(X_test_tfidf)\n",
        "\n",
        "# 評估模型\n",
        "# print(classification_report(y_test, y_pred))\n",
        "\n",
        "from sklearn.metrics import classification_report\n",
        "\n",
        "# 預測測試集\n",
        "y_pred = classifier.predict(X_test_tfidf)\n",
        "\n",
        "# 評估模型\n",
        "report = classification_report(y_test, y_pred, output_dict=True)\n",
        "\n",
        "accuracy = accuracy_score(y_test, y_pred)\n",
        "\n",
        "# 將結果四舍五入到小數點後四位\n",
        "precision_0 = round(report['0']['precision'], 4)\n",
        "recall_0 = round(report['0']['recall'], 4)\n",
        "f1_score_0 = round(report['0']['f1-score'], 4)\n",
        "\n",
        "precision_1 = round(report['1']['precision'], 4)\n",
        "recall_1 = round(report['1']['recall'], 4)\n",
        "f1_score_1 = round(report['1']['f1-score'], 4)\n",
        "\n",
        "print(\"Accuracy:\", round(accuracy, 4))\n",
        "print()\n",
        "print(\"Class 0:\")\n",
        "print(\"Precision:\", precision_0)\n",
        "print(\"Recall:\", recall_0)\n",
        "print(\"F1 Score:\", f1_score_0)\n",
        "print()\n",
        "\n",
        "print(\"Class 1:\")\n",
        "print(\"Precision:\", precision_1)\n",
        "print(\"Recall:\", recall_1)\n",
        "print(\"F1 Score:\", f1_score_1)"
      ],
      "metadata": {
        "id": "-Bl2tsDcNo7v"
      },
      "execution_count": null,
      "outputs": []
    },
    {
      "cell_type": "markdown",
      "source": [
        "### 降低資料維度"
      ],
      "metadata": {
        "id": "UAJYXxjIK50K"
      }
    },
    {
      "cell_type": "code",
      "source": [
        "from sklearn.feature_extraction.text import TfidfVectorizer\n",
        "from sklearn.decomposition import TruncatedSVD\n",
        "from sklearn.linear_model import LogisticRegression\n",
        "from sklearn.model_selection import train_test_split\n",
        "from sklearn.metrics import classification_report, accuracy_score\n",
        "from sklearn.pipeline import make_pipeline\n",
        "import pandas as pd\n",
        "import json\n",
        "\n",
        "# Dataset\n",
        "with open(\"/content/merged.json\", \"r\") as file:\n",
        "    data = file.read()\n",
        "\n",
        "json_data = json.loads(data)\n",
        "df = pd.DataFrame(json_data)\n",
        "\n",
        "# 劃分訓練集和測試集\n",
        "X_train, X_test, y_train, y_test = train_test_split(df['text'], df['labels'], test_size=0.25, random_state=42)\n",
        "\n",
        "# 創建一個管道，其中包含 TF-IDF 向量化、TruncatedSVD 降維和邏輯回歸分類器\n",
        "pipeline = make_pipeline(\n",
        "    TfidfVectorizer(),\n",
        "    TruncatedSVD(n_components=10),  # 調整 n_components 為合適的值，我建置的資料集特徵較少，不超過 30\n",
        "    LogisticRegression()\n",
        ")\n",
        "\n",
        "# 訓練模型\n",
        "pipeline.fit(X_train, y_train)\n",
        "\n",
        "# 預測測試集\n",
        "y_pred = pipeline.predict(X_test)\n",
        "\n",
        "# 評估模型\n",
        "report = classification_report(y_test, y_pred, output_dict=True)\n",
        "accuracy = accuracy_score(y_test, y_pred)\n",
        "\n",
        "# 將結果四舍五入到小數點後四位\n",
        "precision_0 = round(report['0']['precision'], 4)\n",
        "recall_0 = round(report['0']['recall'], 4)\n",
        "f1_score_0 = round(report['0']['f1-score'], 4)\n",
        "\n",
        "precision_1 = round(report['1']['precision'], 4)\n",
        "recall_1 = round(report['1']['recall'], 4)\n",
        "f1_score_1 = round(report['1']['f1-score'], 4)\n",
        "\n",
        "print(\"Accuracy:\", round(accuracy, 4))\n",
        "print(\"\\nClass 0:\")\n",
        "print(\"Precision:\", precision_0)\n",
        "print(\"Recall:\", recall_0)\n",
        "print(\"F1 Score:\", f1_score_0)\n",
        "print(\"\\nClass 1:\")\n",
        "print(\"Precision:\", precision_1)\n",
        "print(\"Recall:\", recall_1)\n",
        "print(\"F1 Score:\", f1_score_1)\n"
      ],
      "metadata": {
        "id": "koM6_hAYWdmG"
      },
      "execution_count": null,
      "outputs": []
    },
    {
      "cell_type": "markdown",
      "source": [
        "## Dataframe 階段文本處理"
      ],
      "metadata": {
        "id": "SeC5VNzhKFWi"
      }
    },
    {
      "cell_type": "code",
      "execution_count": null,
      "metadata": {
        "id": "KRHlsBOd10Nt"
      },
      "outputs": [],
      "source": [
        "# 在 DATAFRAME 階段，修正 JSON 檔的標籤命名錯誤問題\n",
        "import pandas as pd\n",
        "import numpy as np\n",
        "import json\n",
        "\n",
        "# 讀取 JSON 文件\n",
        "with open(\"/content/1train.json\", \"r\") as file:\n",
        "    data = file.read()\n",
        "\n",
        "json_data = json.loads(data)\n",
        "\n",
        "print(json_data)\n",
        "\n",
        "# 假設 df 是你已經加載的包含 'labels', 'context', 和 'text' 列的 DataFrame\n",
        "# 以下代碼將創建一個新的 'text' 列，它合並了 'context' 和 'text' 列的數據\n",
        "\n",
        "df = pd.DataFrame(json_data)\n",
        "# 使用 apply 函數來遍歷每行，合並 'context' 和 'text' 列\n",
        "df['text'] = df.apply(lambda row: row['context'] if pd.isnull(row['text']) else (row['text'] if pd.isnull(row['context']) else row['context'] + \" \" + row['text']), axis=1)\n",
        "\n",
        "# 如果你只想保留合並後的 'text' 列和 'labels' 列，可以選擇刪除原始的 'context' 列\n",
        "df = df.drop(columns=['context'])\n",
        "\n",
        "# 此時 df['text'] 已經是合並後的文本，你可以繼紺使用 df 進行之後的操作\n",
        "print(df)\n",
        "\n",
        "with open(\"/content/1train.json\", \"w\", encoding=\"utf-8\") as file:\n",
        "    file.write(json_output)\n",
        "\n"
      ]
    },
    {
      "cell_type": "code",
      "execution_count": null,
      "metadata": {
        "id": "BFX85Mda10Nw"
      },
      "outputs": [],
      "source": [
        "df.sample(100)"
      ]
    },
    {
      "cell_type": "code",
      "execution_count": null,
      "metadata": {
        "id": "1rUDDHdq10Nv"
      },
      "outputs": [],
      "source": [
        "#number of rows (datapoints)\n",
        "len(df)"
      ]
    },
    {
      "cell_type": "code",
      "execution_count": null,
      "metadata": {
        "id": "LNlZvsgp10Nv"
      },
      "outputs": [],
      "source": [
        "df.dtypes"
      ]
    }
  ],
  "metadata": {
    "kernelspec": {
      "display_name": "Python 3",
      "language": "python",
      "name": "python3"
    },
    "language_info": {
      "codemirror_mode": {
        "name": "ipython",
        "version": 3
      },
      "file_extension": ".py",
      "mimetype": "text/x-python",
      "name": "python",
      "nbconvert_exporter": "python",
      "pygments_lexer": "ipython3",
      "version": "3.6.5"
    },
    "colab": {
      "provenance": []
    }
  },
  "nbformat": 4,
  "nbformat_minor": 0
}