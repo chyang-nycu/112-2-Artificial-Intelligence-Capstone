{
  "cells": [
    {
      "cell_type": "markdown",
      "source": [
        "# 資料前處理"
      ],
      "metadata": {
        "id": "vopbU4DxFIG8"
      }
    },
    {
      "cell_type": "markdown",
      "source": [
        "## 錄音檔分割"
      ],
      "metadata": {
        "id": "F7vVGvSgF5WA"
      }
    },
    {
      "cell_type": "code",
      "execution_count": null,
      "metadata": {
        "id": "d_ZbIowbsCpn"
      },
      "outputs": [],
      "source": [
        "!pip install pydub"
      ]
    },
    {
      "cell_type": "code",
      "execution_count": null,
      "metadata": {
        "colab": {
          "base_uri": "https://localhost:8080/"
        },
        "id": "MoB5qsIErezQ",
        "outputId": "ee6f5339-e4ad-47c1-8cf8-f8043c7dfee2"
      },
      "outputs": [
        {
          "name": "stdout",
          "output_type": "stream",
          "text": [
            "Drive already mounted at /content/drive; to attempt to forcibly remount, call drive.mount(\"/content/drive\", force_remount=True).\n"
          ]
        }
      ],
      "source": [
        "from pydub import AudioSegment\n",
        "import os\n",
        "\n",
        "from google.colab import drive\n",
        "drive.mount('/content/drive')\n",
        "\n",
        "# 定義切割音訊的函數\n",
        "def split_audio(input_file, output_folder, split_time, file_prefix):\n",
        "    audio = AudioSegment.from_file(input_file)\n",
        "    # 確保輸出資料夾存在\n",
        "    os.makedirs(output_folder, exist_ok=True)\n",
        "    # 計算切割時間點\n",
        "    split_points = range(0, len(audio), split_time * 1000)\n",
        "\n",
        "    # 切割並保存文件\n",
        "    for i, start in enumerate(split_points):\n",
        "        end = start + (split_time * 1000)\n",
        "        if end > len(audio):\n",
        "            end = len(audio)\n",
        "        segment = audio[start:end]\n",
        "\n",
        "        # 存為mp3格式\n",
        "        temp_file = os.path.join(output_folder, f\"{file_prefix}_{i + 1}.mp3\")\n",
        "        segment.export(temp_file, format=\"mp3\")\n",
        "\n",
        "\n",
        "# 設定輸入文件路徑、輸出文件夾路徑以及文件前綴\n",
        "file_prefix = \"Lec-03-2\"\n",
        "input_file = \"/content/drive/MyDrive/AIHW1/Lec-03-2_網路總整2.m4a\"\n",
        "output_folder = \"/content/drive/MyDrive/AIHW1\"\n",
        "split_time = 600  # 10分鐘\n",
        "\n",
        "# 執行切割\n",
        "split_audio(input_file, output_folder, split_time, file_prefix)\n"
      ]
    },
    {
      "cell_type": "markdown",
      "source": [
        "## 使用WhisperModel進行語音轉文字"
      ],
      "metadata": {
        "id": "HK6Iuo_DFa8W"
      }
    },
    {
      "cell_type": "code",
      "execution_count": null,
      "metadata": {
        "id": "D5UD_f-zqd38",
        "colab": {
          "base_uri": "https://localhost:8080/"
        },
        "outputId": "90534697-5a9a-4b99-b99d-dd9260cc57a1"
      },
      "outputs": [
        {
          "output_type": "stream",
          "name": "stdout",
          "text": [
            "Reading package lists... Done\n",
            "Building dependency tree... Done\n",
            "Reading state information... Done\n",
            "libcublas11 is already the newest version (11.7.4.6~11.5.1-1ubuntu1).\n",
            "0 upgraded, 0 newly installed, 0 to remove and 38 not upgraded.\n"
          ]
        }
      ],
      "source": [
        "!apt install libcublas11"
      ]
    },
    {
      "cell_type": "code",
      "execution_count": null,
      "metadata": {
        "id": "g18HIfXu-UtK"
      },
      "outputs": [],
      "source": [
        "!pip install faster-whisper"
      ]
    },
    {
      "cell_type": "code",
      "execution_count": null,
      "metadata": {
        "id": "u9nsB7M_ukVC"
      },
      "outputs": [],
      "source": [
        "from faster_whisper import WhisperModel\n",
        "import os\n",
        "from google.colab import files\n",
        "\n",
        "model_size = \"large-v2\" # 使用大型模型 \"large-v2\"\n",
        "mode = \"normal\"\n",
        "\n",
        "\n",
        "# 在GPU上運行，采用FP16模式，可以通過更改 device 參數選擇在CPU或GPU上運行，不過我沒有 GPU 所以都用 CPU\n",
        "# model = WhisperModel(model_size, device=\"cuda\", compute_type=\"float16\")\n",
        "model = WhisperModel(model_size, device=\"cpu\")\n",
        "\n",
        "# 設置輸入音檔的路徑，後來我也有改成用迴圈一次處理一整個資料夾的音檔過\n",
        "audio_path = \"/content/drive/MyDrive/AIHW1/Lec-03-2_1.mp3\"\n",
        "\n",
        "# 轉錄錄音檔並生成逐字稿\n",
        "segments, info = model.transcribe(audio_path, beam_size=5, initial_prompt=\"繁體\")\n",
        "\n",
        "transcription = \"\"\n",
        "\n",
        "# 根據模式整理轉錄結果\n",
        "if mode == \"normal\":\n",
        "    # 直接將所有片段的文字連接起來\n",
        "    transcription_segments = [segment.text for segment in segments]\n",
        "    transcription = \"，\".join(transcription_segments)\n",
        "\n",
        "# 輸出轉錄結果，可以初步檢查有沒有錯誤\n",
        "print(transcription)\n",
        "\n",
        "# 獲取不帶副檔名的文件名\n",
        "file_name = os.path.splitext(os.path.basename(audio_path))[0]\n",
        "\n",
        "# 將結果保存為txt文件並下載\n",
        "with open(f\"{file_name}.txt\", \"w\") as file:\n",
        "    file.write(transcription)\n",
        "    files.download(f\"{file_name}.txt\")\n"
      ]
    },
    {
      "cell_type": "markdown",
      "source": [
        "## 逐字稿轉為 JSON 資料格式"
      ],
      "metadata": {
        "id": "x2g8PZC2GAD_"
      }
    },
    {
      "cell_type": "code",
      "execution_count": null,
      "metadata": {
        "id": "0K7l-n9IBbU_"
      },
      "outputs": [],
      "source": [
        "# 開啟txt檔案\n",
        "with open('Lec-03-4_1.txt', 'r') as file:\n",
        "    # 讀取每一行並去除多餘的空格\n",
        "    lines = [line.strip() for line in file]\n",
        "\n",
        "# 建立一個空的list來存放符合條件的字串\n",
        "result = []\n",
        "\n",
        "# 逐行處理\n",
        "for line in lines:\n",
        "    # 使用逗號分隔字串並將結果存入list\n",
        "    split_line = line.split('，')\n",
        "    # 將長度大於或等於3個字的字串存入result\n",
        "    result.extend([word for word in split_line if len(word) >= 3])\n",
        "\n",
        "# 將結果寫入output.txt檔案中\n",
        "with open('NSC4.txt', 'w') as output_file:\n",
        "    output_file.write(\"[\\n\")\n",
        "    # 將每個元素寫入一行中\n",
        "    for item in result:\n",
        "        output_file.write(f'    \"{item}\",\\n')\n",
        "    output_file.write(\"]\")\n"
      ]
    },
    {
      "cell_type": "code",
      "source": [
        "# 開啟txt檔案\n",
        "with open('Lec-03-4_1.txt', 'r') as file:\n",
        "    # 讀取每一行並去除多餘的空格\n",
        "    lines = [line.strip() for line in file]\n",
        "\n",
        "# 建立一個空的list來存放拆分後的字串\n",
        "result = []\n",
        "\n",
        "# 逐行處理\n",
        "for line in lines:\n",
        "    # 使用逗號分隔字串並將結果存入list\n",
        "    split_line = line.split('，')\n",
        "    result.extend(split_line)\n",
        "\n",
        "# 將結果寫入output.txt檔案中\n",
        "with open('NSC4.txt', 'w') as output_file:\n",
        "    # 將每個元素寫入一行中\n",
        "    for item in result:\n",
        "        output_file.write(item + '\\n')\n"
      ],
      "metadata": {
        "id": "t1ofzsbAXvns"
      },
      "execution_count": null,
      "outputs": []
    },
    {
      "cell_type": "markdown",
      "metadata": {
        "id": "wKJLcxBE-fg3"
      },
      "source": [
        "# 訓練 simple transformer 為基底的文本分類模型"
      ]
    },
    {
      "cell_type": "code",
      "execution_count": null,
      "metadata": {
        "id": "oJRU8AAb-hJF"
      },
      "outputs": [],
      "source": [
        "pip install torch==1.7.1+cu110 torchvision==0.8.2+cu110 torchaudio==0.7.2 -f https://download.pytorch.org/whl/torch_stable.html"
      ]
    },
    {
      "cell_type": "code",
      "execution_count": null,
      "metadata": {
        "id": "ENFC9gqD-kyu"
      },
      "outputs": [],
      "source": [
        "pip install simpletransformers"
      ]
    },
    {
      "cell_type": "code",
      "execution_count": null,
      "metadata": {
        "id": "N1rl7Pdh-2Ol"
      },
      "outputs": [],
      "source": [
        "from google.colab import files\n",
        "import json\n",
        "import pandas as pd\n",
        "from simpletransformers.classification import ClassificationModel, ClassificationArgs\n",
        "import time\n",
        "\n",
        "# 讀取訓練數據\n",
        "def getDataFrame():\n",
        "    with open(\"train.json\", 'r', encoding=\"utf8\") as file:\n",
        "        jsonData = json.loads(file.read())\n",
        "    df = pd.DataFrame(jsonData, columns=[\"text\", \"labels\"])\n",
        "    df[\"labels\"] = pd.to_numeric(df[\"labels\"])\n",
        "    return df\n",
        "\n",
        "# 訓練模型\n",
        "def train(df):\n",
        "    dir_name = 'bert-base-chinese-bs-16-epo-1'\n",
        "    model_args = ClassificationArgs()\n",
        "    model_args.train_batch_size = 16\n",
        "    model_args.num_train_epochs = 1\n",
        "    model_args.output_dir = f\"outputs/{dir_name}\"\n",
        "    model_args.use_cuda = False\n",
        "    model_args.model_type = \"bert\"\n",
        "    model_args.model_name = \"bert-base-chinese\"\n",
        "    model_args.num_labels = 2\n",
        "\n",
        "    model = ClassificationModel(\n",
        "        model_type=model_args.model_type,\n",
        "        model_name=model_args.model_name,\n",
        "        use_cuda=model_args.use_cuda,\n",
        "        num_labels=model_args.num_labels,\n",
        "        args=model_args\n",
        "    )\n",
        "\n",
        "    model.train_model(df)\n",
        "\n",
        "# 主程序\n",
        "if __name__ == \"__main__\":\n",
        "    tStart = time.time()  # 計時開始\n",
        "    train(getDataFrame())\n",
        "    tEnd = time.time()  # 計時結束\n",
        "    # 輸出程序執行的時間\n",
        "    print(f\"執行時間: {tEnd - tStart} 秒\")\n"
      ]
    },
    {
      "cell_type": "code",
      "source": [
        "from simpletransformers.classification import ClassificationModel, ClassificationArgs\n",
        "import time\n",
        "\n",
        "def predict(listTestData):\n",
        "    # 輸出模型存在的目錄名稱\n",
        "    dir_name = 'bert-base-chinese-bs-16-epo-1'\n",
        "\n",
        "    # 自定義參數\n",
        "    model_args = ClassificationArgs()\n",
        "    model_args.train_batch_size = 32\n",
        "    model_args.num_train_epochs = 1\n",
        "\n",
        "    # 讀取ClassificationModel\n",
        "    model = ClassificationModel('bert', f\"outputs/{dir_name}\", use_cuda=False, cuda_device=0, num_labels=2, args=model_args)\n",
        "\n",
        "    # 預測\n",
        "    predictions, raw_outputs = model.predict(listTestData)\n",
        "\n",
        "    # 返回預測結果，會是一個list\n",
        "    return predictions\n",
        "\n",
        "# 主程序\n",
        "if __name__ == \"__main__\":\n",
        "    tStart = time.time()  # 計時開始\n",
        "\n",
        "    # 測試集\n",
        "    listTestData = [\n",
        "      \"輕輕鬆鬆\"\n",
        "    ]\n",
        "\n",
        "    # 從文件中讀取數據到listTestData\n",
        "    with open(\"NSC4.txt\", \"r\", encoding=\"utf-8\") as file:\n",
        "        listTestData = file.readlines()\n",
        "\n",
        "    # 移除每個元素末尾的換行符\n",
        "    listTestData = [item.strip() for item in listTestData]\n",
        "\n",
        "    # 印出測試集\n",
        "    print(listTestData)\n",
        "\n",
        "\n",
        "    # 進行預測\n",
        "    result = predict(listTestData)\n",
        "    print(result)\n",
        "\n",
        "    import numpy as np\n",
        "    # 計算結果中1的個數、0的個數與結果\n",
        "    count_1 = np.sum(result == 1)\n",
        "    count_0 = np.sum(result == 0)\n",
        "    print(\"結果中有\", count_1, \"個1，\", count_0, \"個0。\")\n",
        "\n",
        "    # 計時結束\n",
        "    tEnd = time.time()\n",
        "    # 輸出程序執行的時間\n",
        "    print(f\"執行時間: {tEnd - tStart} 秒\")\n"
      ],
      "metadata": {
        "id": "T_WL3n7O03jo"
      },
      "execution_count": null,
      "outputs": []
    },
    {
      "cell_type": "markdown",
      "source": [
        "後面可以再計算一些評估模型性能的指標"
      ],
      "metadata": {
        "id": "JLMGVMOCHka_"
      }
    },
    {
      "cell_type": "markdown",
      "source": [
        "# 使用非深度學習模型分類文本"
      ],
      "metadata": {
        "id": "5fwacA0vIK_O"
      }
    },
    {
      "cell_type": "code",
      "source": [],
      "metadata": {
        "id": "vuI7fB6aH1Ji"
      },
      "execution_count": null,
      "outputs": []
    }
  ],
  "metadata": {
    "colab": {
      "provenance": []
    },
    "kernelspec": {
      "display_name": "Python 3",
      "name": "python3"
    },
    "language_info": {
      "name": "python"
    }
  },
  "nbformat": 4,
  "nbformat_minor": 0
}